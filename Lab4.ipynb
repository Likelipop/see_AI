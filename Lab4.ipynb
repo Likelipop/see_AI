{
  "nbformat": 4,
  "nbformat_minor": 0,
  "metadata": {
    "colab": {
      "provenance": [],
      "authorship_tag": "ABX9TyPlRR99WXzpc5+J1dVkhlfF",
      "include_colab_link": true
    },
    "kernelspec": {
      "name": "python3",
      "display_name": "Python 3"
    },
    "language_info": {
      "name": "python"
    }
  },
  "cells": [
    {
      "cell_type": "markdown",
      "metadata": {
        "id": "view-in-github",
        "colab_type": "text"
      },
      "source": [
        "<a href=\"https://colab.research.google.com/github/Likelipop/see_AI/blob/main/Lab4.ipynb\" target=\"_parent\"><img src=\"https://colab.research.google.com/assets/colab-badge.svg\" alt=\"Open In Colab\"/></a>"
      ]
    },
    {
      "cell_type": "markdown",
      "source": [
        "#Introduction:\n",
        "1. Chương trình báo lỗi ở rất nhiều dòng, dữ dằn nhất là trật indentation.\n",
        "\n",
        "2. Áp dụng và triển khai em có để code ở bên dưới ạ\n",
        "\n",
        "3. Thuật toán chạy ra kết quả sai, và những chỗ bug em tìm được chi tiết trình bày trong phần thân báo cáo (kể cả những chỗ \"#gotcha\" trong code)"
      ],
      "metadata": {
        "id": "FavEPcwk4Bie"
      }
    },
    {
      "cell_type": "markdown",
      "source": [
        "#Clone dữ liệu từ github về"
      ],
      "metadata": {
        "id": "S7vjwktc4pBa"
      }
    },
    {
      "cell_type": "code",
      "source": [
        "!git clone \"https://github.com/Likelipop/see_AI.git\""
      ],
      "metadata": {
        "colab": {
          "base_uri": "https://localhost:8080/",
          "height": 0
        },
        "id": "MCj4t2tswTna",
        "outputId": "8abdb09c-2378-4beb-f360-382ad978fe0c"
      },
      "execution_count": 3,
      "outputs": [
        {
          "output_type": "stream",
          "name": "stdout",
          "text": [
            "Cloning into 'see_AI'...\n",
            "remote: Enumerating objects: 3, done.\u001b[K\n",
            "remote: Counting objects: 100% (3/3), done.\u001b[K\n",
            "remote: Total 3 (delta 0), reused 0 (delta 0), pack-reused 0 (from 0)\u001b[K\n",
            "Receiving objects: 100% (3/3), done.\n"
          ]
        }
      ]
    },
    {
      "cell_type": "code",
      "source": [
        "%cd \"/content/see_AI\""
      ],
      "metadata": {
        "colab": {
          "base_uri": "https://localhost:8080/",
          "height": 0
        },
        "id": "DMOLzwMUxIWY",
        "outputId": "c56338fc-e591-4217-fc6f-3dda511848b3"
      },
      "execution_count": 5,
      "outputs": [
        {
          "output_type": "stream",
          "name": "stdout",
          "text": [
            "/content/see_AI\n"
          ]
        }
      ]
    },
    {
      "cell_type": "markdown",
      "source": [
        "#Thêm các thư viện cần thiết"
      ],
      "metadata": {
        "id": "D6ps0KeMxmeK"
      }
    },
    {
      "cell_type": "code",
      "source": [
        "from matplotlib import pyplot as plt\n",
        "from collections import defaultdict\n",
        "from queue import PriorityQueue\n",
        "import math"
      ],
      "metadata": {
        "id": "rOn7OrN-v8Be"
      },
      "execution_count": 8,
      "outputs": []
    },
    {
      "cell_type": "markdown",
      "source": [
        "# Tạo lớp Point\n",
        "\n",
        "Lớp Point nắm giữ các thông tin về:\n",
        "* Tọa độ của điểm\n",
        "* ID của Đa giác mà điểm thuộc về\n",
        "* Nút cha của điểm hiện tại khi duyệt\n"
      ],
      "metadata": {
        "id": "s6x7sXmExuhZ"
      }
    },
    {
      "cell_type": "code",
      "source": [
        "class Point(object):\n",
        "    def __init__(self, x, y, polygon_id = -1):\n",
        "        self.x = x\n",
        "        self.y = y\n",
        "        self. g =0\n",
        "        self.polygon_id = polygon_id\n",
        "        self.pre = None\n",
        "\n",
        "    def rel(self, other, line):\n",
        "        return line.d(self) * line.d(other) >= 0\n",
        "\n",
        "    def can_see(self, other, line):\n",
        "        l1 = self.line_to(line.p1)\n",
        "        l2 = self.line_to(line.p2)\n",
        "        d3 = line.d(self) * line.d(other) < 0\n",
        "        d1 = other.rel(line.p2,l1)\n",
        "        d2 = other.rel(line.p1,l2)\n",
        "        return not (d1 and d2 and d3)\n",
        "\n",
        "    def line_to(self,other):\n",
        "        return Edge(self, other)\n",
        "\n",
        "    def heuristic(self, other):\n",
        "        return euclid_distance(self, other)\n",
        "\n",
        "    def __eq__(self, point):\n",
        "        return point and self.x == point.x and self.y == point.y\n",
        "\n",
        "    def __ne__(self, point):\n",
        "        return not self.__eq__(point)\n",
        "\n",
        "    def __hash__(self):\n",
        "        return self.x.__hash__() ^ self.y.__hash__()\n",
        "\n",
        "    def __lt__(self, point):\n",
        "        return hash(self) < hash(point)\n",
        "\n",
        "    def __str__(self):\n",
        "        return \"(%d, %d)\" % (self.x, self.y)\n",
        "\n",
        "    def __repr(self):\n",
        "        return \"(%d, %d)\" % (self.x, self.y)"
      ],
      "metadata": {
        "id": "LMamMH5Bv-Ab"
      },
      "execution_count": 9,
      "outputs": []
    },
    {
      "cell_type": "markdown",
      "source": [
        "# Xây dựng lớp Edge\n",
        "Lớp này lưu giữ thông tin về cạnh (thành phần bao gồm 2 điểm), đồng thời chứa các phương thức liên quan như:\n",
        "* Lấy mút còn lại của cạnh\n",
        "* Tính khoảng cách của đường thằng từ điểm cho trước"
      ],
      "metadata": {
        "id": "YuyUL3bFyD8D"
      }
    },
    {
      "cell_type": "code",
      "source": [
        "class Edge(object):\n",
        "    def __init__(self, point1, point2):\n",
        "        self.p1 = point1\n",
        "        self.p2 = point2\n",
        "\n",
        "    def get_adjacent(self, point):\n",
        "        if point == self.p1:\n",
        "            return self.p2\n",
        "        if point == self.p2:\n",
        "            return self.p1\n",
        "\n",
        "\n",
        "    def d (self, point):\n",
        "        vect_a = Point(self.p2.x - self.p1.x, self.p2.y - self.p1.y)\n",
        "        vect_n = Point(-vect_a.y, vect_a.x)\n",
        "        return vect_n.x * (point.x - self.p1.x) + vect_n.y*(point.y - self.p1.y)\n",
        "\n",
        "    def __str__(self):\n",
        "        return \"({},{})\".format(self.p1, self.p2)\n",
        "\n",
        "    def __contains__ (self, point):\n",
        "        return self.p1 == point or self.p2 == point\n",
        "\n",
        "    def __hash__(self):\n",
        "        return self.p1.__hash__() ^self.p2.__hash__()\n",
        "\n",
        "\n",
        "    def __repr_(self):\n",
        "        return \"Edge({!r}, {!r})\".format(self.p1, self.p2)\n",
        ""
      ],
      "metadata": {
        "id": "rNgfMnBxwAWo"
      },
      "execution_count": 10,
      "outputs": []
    },
    {
      "cell_type": "markdown",
      "source": [
        "# Xây dựng lớp Graph\n",
        "\n",
        "Lớp này dùng để chứa các thông tin quan trọng trong bài toán cho quá trình duyệt, bao gồm:\n",
        "1. Từ điển Graph: Cái này dùng để lưu một từ điển có dạng STT: Poygons,\n",
        "trong đó polygons là một tập tuần tự các điểm của một đa giác. Tuy nhiên trong Graph này chứa 2 polygons đặt biệt, đó chính là điểm bắt đầu và điểm xuất phát. (*)\n",
        "2.  Tập các cạnh: cái này dùng để lưu lại tập các cạnh mà bài toán đang có. Tập này đóng vai trò chính trong việc tìm kiếm các điểm có thể thấy được trong lúc duyệt.\n",
        "3. Từ điển Polygons: Tập này dùng để chứa các đa giác có trong bài toán, có dạng STT: danh sách các cạnh của đa giác. Đây cũng đóng vai trò trong việc tìm kiếm lân cận (các đỉnh thấy được) của đỉnh trong lúc duyệt.\n",
        "\n",
        "Đồng thời, lớp còn chứa các hàm phụ trợ khác cho các thuật toán duyệt:\n",
        "1. get_adjacent_points(self, point) : lấy điểm lân cận của point trên cùng một đa giác\n",
        "2. h(self, point): trả về giá trị ước lượng của point tới goal theo đường chim bay.\n",
        "3. can_see(self, start): hàm này trả về danh sách các điểm mà start có thể \"nhìn thấy được\"\n",
        "\n",
        "\n",
        "---\n",
        "\n",
        "**Hàm này lúc đầu trong file code có lỗi !!!**\n",
        "1. Indentaion Trậc từ line 67 đến line 74 trong code dưới\n",
        "2. Ngoài ra trong code cũng có trật indetation khá nhiều (thậm chí là làm cho code lỗi), tuy nhiên em nghĩ có thể là do lỗi từ file nên em đã tinh chỉnh lại cho đúng ý code.\n",
        "\n",
        "\n",
        "\n"
      ],
      "metadata": {
        "id": "jy6kvC6Zyyjq"
      }
    },
    {
      "cell_type": "code",
      "source": [
        "class Graph:\n",
        "    def __init__(self, polygons):\n",
        "\n",
        "        self.graph = defaultdict(set)\n",
        "        self.edges = set()\n",
        "        self.polygons = defaultdict(set)\n",
        "        pid =0\n",
        "        for polygon in polygons:\n",
        "\n",
        "            # incase of line.\n",
        "            if len(polygon) == 2:\n",
        "                polygons.pop()\n",
        "\n",
        "            # incase just  a  polygon ?\n",
        "            if polygon[0] == polygon[-1]:\n",
        "                self.add_point(polygon[0])\n",
        "            else:\n",
        "                for i, point in enumerate(polygon):\n",
        "                    #Create edge\n",
        "\n",
        "\n",
        "                    neighbor_point = polygon[(i+1) % len(polygon)]\n",
        "                    #print(f\" {point} - {neighbor_point}#\", end = \" \" )\n",
        "                    edge = Edge(point, neighbor_point)\n",
        "\n",
        "                    #If not a 1d polygon\n",
        "                    if len(polygon) > 2:\n",
        "                        point.polygon_id = pid\n",
        "                        self.polygons[pid].add(edge)\n",
        "\n",
        "                    self.add_edge(edge)\n",
        "\n",
        "                if len(polygon) > 2:\n",
        "                    pid+=1\n",
        "\n",
        "    def display (self):\n",
        "        for items in self.graph.items:\n",
        "            for eachitems in items :\n",
        "                print(eachitems, end = \" \")\n",
        "            print()\n",
        "\n",
        "\n",
        "    def get_adjacent_points(self, point): # ??\n",
        "        return list(filter(None, [edge.get_adjacent(point) for edge in self.edges]))\n",
        "\n",
        "    def can_see(self, start):\n",
        "        see_list = list()\n",
        "        cant_see_list = list()\n",
        "\n",
        "        for polygon in self.polygons:\n",
        "            for edge in self.polygons[polygon]:\n",
        "                for point in self.get_points():\n",
        "                    if start == point:\n",
        "                        cant_see_list.append(point)\n",
        "\n",
        "                    #the pin node lies in current polygons\n",
        "                    if start in self.get_polygon_points(polygon):\n",
        "\n",
        "                        for poly_point in self.get_polygon_points(polygon):\n",
        "                            if poly_point not in self.get_adjacent_points(start):\n",
        "                                cant_see_list.append(poly_point)\n",
        "                                if poly_point in see_list:\n",
        "                                    see_list.remove(poly_point)\n",
        "\n",
        "                    # the point is outside the current polygon & not in start.\n",
        "                    if point not in cant_see_list: # see yah too (indetaion 145-149)\n",
        "                        if start.can_see(point, edge):\n",
        "                            if point not in see_list:     # this one indentation\n",
        "                                see_list.append(point)\n",
        "                        elif point in see_list:\n",
        "                            see_list.remove(point)\n",
        "                            cant_see_list.append(point)\n",
        "                        else:\n",
        "                            cant_see_list.append(point)\n",
        "\n",
        "        return see_list\n",
        "    def h(self, point):\n",
        "        heuristic = getattr(self, 'heuristic', None)\n",
        "        if heuristic:\n",
        "            return heuristic[point]\n",
        "        else:\n",
        "            return -1\n",
        "\n",
        "\n",
        "    def get_polygon_points(self, index):\n",
        "        point_set = set()\n",
        "        for edge in self.polygons[index]:\n",
        "            point_set.add(edge.p1)\n",
        "            point_set.add(edge.p2)\n",
        "        return point_set\n",
        "\n",
        "    def get_points (self):\n",
        "        return list(self.graph)\n",
        "\n",
        "    def get_edges(self):\n",
        "        return self.edges\n",
        "\n",
        "    def add_point(self, point):\n",
        "        self.graph[point].add(point)\n",
        "\n",
        "    def add_edge(self, edge):\n",
        "        self.graph[edge.p1].add(edge)\n",
        "        self.graph[edge.p2].add(edge)\n",
        "        self.edges.add(edge)\n",
        "\n",
        "    def __contains__ (self, item):\n",
        "        if isinstance(item, Point):\n",
        "            return item in self.graph\n",
        "        if isinstance(item, Edge):\n",
        "            return item in self.edges\n",
        "        return False\n",
        "\n",
        "    def __getitem__(self, point):\n",
        "        if point in self.graph:\n",
        "            return self.graph[point]\n",
        "        return set()\n",
        "\n",
        "    def __str__(self):\n",
        "        res= \"\"\n",
        "        for point in self.graph:\n",
        "            res+= \"\\n\" + str(point) + \": \"\n",
        "            for edge in self.graph[point]:\n",
        "                res+= str(edge)\n",
        "        return res\n"
      ],
      "metadata": {
        "id": "uamP0jZlwGf7"
      },
      "execution_count": 11,
      "outputs": []
    },
    {
      "cell_type": "markdown",
      "source": [
        "# Xây dựng hàm ước lượng chi phí\n",
        "\n",
        "ta viếc một hàm lambda để ước lượng chi phí của node trong lúc duyệt, gồm một ước lượng cho a_star và một ước lượng cho greedy. Do cả hai thuật toán này chỉ khác nhau mỗi hàm ước lượng nên ta có thể viết ra hai hàm chi phí này để luân phiên xử dụng trong hàm search"
      ],
      "metadata": {
        "id": "eB9e3ZNv14C7"
      }
    },
    {
      "cell_type": "code",
      "source": [
        "a_star = lambda graph, i : i.g + graph.h(i)\n",
        "greedy = lambda graph, i : graph.h(i)"
      ],
      "metadata": {
        "id": "xht1WaNEwOcB"
      },
      "execution_count": 12,
      "outputs": []
    },
    {
      "cell_type": "code",
      "source": [
        "def euclid_distance(point1, point2):\n",
        "    return round(float(math.sqrt((point2.x - point1.x)**2 + (point2.y - point1.y)**2)),3)\n",
        "\n",
        "def search( graph, start, goal, func):\n",
        "    closed = set()\n",
        "    queue = PriorityQueue()\n",
        "    queue.put((0 + func(graph, start), start ))\n",
        "\n",
        "    #meaningless\n",
        "    if start not in closed:\n",
        "        closed.add(start)\n",
        "\n",
        "    while not queue.empty():\n",
        "        cost, node = queue.get()\n",
        "        if node == goal:\n",
        "            return node\n",
        "\n",
        "        if node == Point(34,7):\n",
        "            for item in closed:\n",
        "                print(item, \" \")\n",
        "        for i in graph.can_see(node):\n",
        "            if (node == Point(34,7)):\n",
        "                print(i, end = \" \")\n",
        "            new_cost = node.g + euclid_distance(node, i)\n",
        "            if i not in closed or new_cost < i.g:\n",
        "                closed.add(i)\n",
        "                i.g = new_cost\n",
        "                i.pre = node\n",
        "                new_cost = func(graph,i)\n",
        "                queue.put((new_cost,i))\n",
        "\n",
        "    return node"
      ],
      "metadata": {
        "id": "3FFe-lQVwK5D"
      },
      "execution_count": 13,
      "outputs": []
    },
    {
      "cell_type": "markdown",
      "source": [
        "# Nhân vật chính\n",
        "Bao gồm các công việc:\n",
        "1. Đọc dữ liệu\n",
        "2. Tổ chức đồ thị từ thông tin đã đọc\n",
        "3. thực thi tìm kiếm\n",
        "4. plot đồ thị minh họa\n",
        "\n",
        "\n",
        "---\n",
        "\n",
        "**Hàm này lúc đầu cũng nhiều lỗi không kém !!!**\n",
        "\n",
        "Thiếu dòng này nên thuật toán ban đầu không tìm được đích đến.\n",
        "```` python\n",
        "poly_list.append([goal])\n",
        "````\n",
        "\n",
        "Đồng thời, trong lúc plot thì đoạn code đã chừa một đa giác cuối cùng ở lại\n",
        "````python\n",
        "for i in range(1, len(poly_list) -1 ):\n",
        "````\n",
        "Phương án thay thế chỉ đơn giản là bỏ -1 ra khỏi đoạn code trên."
      ],
      "metadata": {
        "id": "EIHdlCOU2flh"
      }
    },
    {
      "cell_type": "code",
      "execution_count": 14,
      "metadata": {
        "colab": {
          "base_uri": "https://localhost:8080/",
          "height": 467
        },
        "id": "xLsBjHFtv3x4",
        "outputId": "4e415ca7-8c3c-467c-b95e-fe1572bedf2e"
      },
      "outputs": [
        {
          "output_type": "stream",
          "name": "stdout",
          "text": [
            "[<__main__.Point object at 0x7ec207817b50>, -1] -> [<__main__.Point object at 0x7ec207816f50>, 1] -> [<__main__.Point object at 0x7ec207815e10>, 1] -> [<__main__.Point object at 0x7ec207817af0>, 3] -> [<__main__.Point object at 0x7ec207816560>, -1]\n"
          ]
        },
        {
          "output_type": "display_data",
          "data": {
            "text/plain": [
              "<Figure size 640x480 with 1 Axes>"
            ],
            "image/png": "[encoded data removed]"
          },
          "metadata": {}
        }
      ],
      "source": [
        "def main():\n",
        "    n_polygon = 0\n",
        "    poly_list = list(list())\n",
        "    x= list()\n",
        "    y= list()\n",
        "    with open('Input.txt','r') as f:\n",
        "\n",
        "        # read every single line and convert its type into int.\n",
        "        line = f.readline()\n",
        "        line = line.strip()\n",
        "        line = line.split()\n",
        "        line = list(map(int, line))\n",
        "\n",
        "        # take the number of polygons, the start coord and goal coord.\n",
        "        n_polygon = line[0]\n",
        "        start = Point(line[1], line[2])\n",
        "        goal = Point(line[3], line[4])\n",
        "        poly_list.append([start]) # end ?\n",
        "\n",
        "        #for those polygons below.\n",
        "        for line in f:\n",
        "\n",
        "            #a list of polygon's vertex\n",
        "            point_list = list()\n",
        "            line = line.split()\n",
        "            n_vertex= int(line[0])\n",
        "\n",
        "            #keys in evrey node''s coord.\n",
        "            for j in range(0, 2*n_vertex, 2):\n",
        "                point_list.append(Point(int(line[j+1]) , int(line[j+2])))\n",
        "\n",
        "            poly_list.append(point_list[:])\n",
        "\n",
        "        # got cha\n",
        "        poly_list.append([goal])\n",
        "        graph = Graph(poly_list)\n",
        "\n",
        "        graph.heuristic= {point: point.heuristic(goal) for point in graph.get_points()}\n",
        "\n",
        "        a = search(graph, start, goal, greedy)\n",
        "\n",
        "        result = list()\n",
        "\n",
        "        while a:\n",
        "            result.append(a)\n",
        "            a = a.pre\n",
        "\n",
        "\n",
        "        result.reverse()\n",
        "        print_res = [[point, point.polygon_id] for point in result]\n",
        "        print(*print_res, sep = ' -> ')\n",
        "        plt.figure()\n",
        "        plt.plot([start.x], [start.y], 'ro')\n",
        "        plt.plot([goal.x], [goal.y],'ro')\n",
        "        for point in graph.get_points():\n",
        "            x.append(point.x)\n",
        "            y.append(point.y)\n",
        "\n",
        "        plt.plot(x,y,'ro')\n",
        "        for i in range(1, len(poly_list) ): #see yah (-1)\n",
        "            coord = list()\n",
        "            for point in poly_list[i]:\n",
        "                coord.append([point.x, point.y])\n",
        "            coord.append(coord[0])\n",
        "            xs, ys = zip(*coord)\n",
        "            plt.plot(xs, ys)\n",
        "        x = list()\n",
        "        y = list()\n",
        "        for point in result:\n",
        "            x.append(point.x)\n",
        "            y.append(point.y)\n",
        "        plt.plot(x,y,'b', linewidth = 2.0)\n",
        "        plt.show()\n",
        "\n",
        "main()\n"
      ]
    }
  ]
}